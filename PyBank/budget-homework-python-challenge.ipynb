{
 "cells": [
  {
   "cell_type": "code",
   "execution_count": 2,
   "metadata": {},
   "outputs": [
    {
     "ename": "FileNotFoundError",
     "evalue": "[WinError 3] The system cannot find the path specified: 'C:\\\\Users\\\\khato\\\\Desktop\\\\Python-Challenge\\\\python-challenge\\\\PyBank\\\\.\\\\raw_data'",
     "output_type": "error",
     "traceback": [
      "\u001b[1;31m---------------------------------------------------------------------------\u001b[0m",
      "\u001b[1;31mFileNotFoundError\u001b[0m                         Traceback (most recent call last)",
      "\u001b[1;32m<ipython-input-2-7d8a32755d0e>\u001b[0m in \u001b[0;36m<module>\u001b[1;34m\u001b[0m\n\u001b[0;32m      9\u001b[0m \u001b[1;31m# Iterate through the listdir results\u001b[0m\u001b[1;33m\u001b[0m\u001b[1;33m\u001b[0m\u001b[1;33m\u001b[0m\u001b[0m\n\u001b[0;32m     10\u001b[0m \u001b[0mfilepaths\u001b[0m \u001b[1;33m=\u001b[0m \u001b[1;33m[\u001b[0m\u001b[1;33m]\u001b[0m\u001b[1;33m\u001b[0m\u001b[1;33m\u001b[0m\u001b[0m\n\u001b[1;32m---> 11\u001b[1;33m \u001b[1;32mfor\u001b[0m \u001b[0mfile\u001b[0m \u001b[1;32min\u001b[0m \u001b[0mos\u001b[0m\u001b[1;33m.\u001b[0m\u001b[0mlistdir\u001b[0m\u001b[1;33m(\u001b[0m\u001b[0mdata_path\u001b[0m\u001b[1;33m)\u001b[0m\u001b[1;33m:\u001b[0m\u001b[1;33m\u001b[0m\u001b[1;33m\u001b[0m\u001b[0m\n\u001b[0m\u001b[0;32m     12\u001b[0m     \u001b[1;32mif\u001b[0m \u001b[0mfile\u001b[0m\u001b[1;33m.\u001b[0m\u001b[0mendswith\u001b[0m\u001b[1;33m(\u001b[0m\u001b[1;34m\".csv\"\u001b[0m\u001b[1;33m)\u001b[0m\u001b[1;33m:\u001b[0m\u001b[1;33m\u001b[0m\u001b[1;33m\u001b[0m\u001b[0m\n\u001b[0;32m     13\u001b[0m         \u001b[0mfilepaths\u001b[0m\u001b[1;33m.\u001b[0m\u001b[0mappend\u001b[0m\u001b[1;33m(\u001b[0m\u001b[0mos\u001b[0m\u001b[1;33m.\u001b[0m\u001b[0mpath\u001b[0m\u001b[1;33m.\u001b[0m\u001b[0mjoin\u001b[0m\u001b[1;33m(\u001b[0m\u001b[0mdata_path\u001b[0m\u001b[1;33m,\u001b[0m \u001b[0mfile\u001b[0m\u001b[1;33m)\u001b[0m\u001b[1;33m)\u001b[0m\u001b[1;33m\u001b[0m\u001b[1;33m\u001b[0m\u001b[0m\n",
      "\u001b[1;31mFileNotFoundError\u001b[0m: [WinError 3] The system cannot find the path specified: 'C:\\\\Users\\\\khato\\\\Desktop\\\\Python-Challenge\\\\python-challenge\\\\PyBank\\\\.\\\\raw_data'"
     ]
    }
   ],
   "source": [
    "import os\n",
    "import csv\n",
    "\n",
    "# Establish the root path, data path and export output path\n",
    "root_path = os.path.join(os.getcwd(), \".\")\n",
    "data_path = os.path.join(root_path, \"raw_data\")\n",
    "output_path = os.path.join(root_path, \"output\")\n",
    "\n",
    "# Iterate through the listdir results\n",
    "filepaths = []\n",
    "for file in os.listdir(data_path):\n",
    "    if file.endswith(\".csv\"):\n",
    "        filepaths.append(os.path.join(data_path, file))\n",
    "\n",
    "# Using csv.DictReader()\n",
    "for file in filepaths:\n",
    "    tot_revenue = 0\n",
    "    month_count = 0\n",
    "    revenue = 0\n",
    "    rev_change = 0\n",
    "    data_dict_list = []\n",
    "    with open(file, newline=\"\") as csvfile:\n",
    "        csvreader = csv.DictReader(csvfile)\n",
    "        for row in csvreader:\n",
    "            # Creating new revenue difference per month dictionary to calculate greatest inc/dec.\n",
    "            rev_diff = {\"rev_diff\": int(\"{Revenue}\".format(**row)) - revenue}\n",
    "            rev_change = rev_change + int(\"{Revenue}\".format(**row)) - revenue\n",
    "            revenue = int(\"{Revenue}\".format(**row))\n",
    "            tot_revenue += revenue\n",
    "            month_count += 1\n",
    "            data_dict_list.append({**row, **rev_diff})\n",
    "        # Turn dictionary housing max and min rev_diff values as indvidual dicts outside of list.\n",
    "        increase_dict = dict(max(data_dict_list, key=lambda x:x[\"rev_diff\"]))\n",
    "        decrease_dict = dict(min(data_dict_list, key=lambda x:x[\"rev_diff\"]))\n",
    "        # Pull date and rev_diff values for the corresponding greatest inc/dec months.\n",
    "        increase_date = increase_dict.get(\"Date\")\n",
    "        increase_revdiff = increase_dict.get(\"rev_diff\")\n",
    "        decrease_date = decrease_dict.get(\"Date\")\n",
    "        decrease_revdiff = decrease_dict.get(\"rev_diff\")\n",
    "        # Adjust rev_diff to discount first row.\n",
    "        first_row = data_dict_list[0]\n",
    "        first_row_revdiff = first_row.get(\"rev_diff\")\n",
    "        rev_change = rev_change - first_row_revdiff\n",
    "        avg_change = int(rev_change/(month_count - 1))\n",
    "        \n",
    "        # Grab the filename from the original path.\n",
    "        # The _, gets rid of the path. The , _ gets rid of the .csv.\n",
    "        _, filename = os.path.split(file)\n",
    "        filename, _ = filename.split(\".csv\")     \n",
    "        # Print the analysis to the terminal.\n",
    "        print(\n",
    "            f\"Financial Analysis - {filename}\\n\"\n",
    "            f\"----------------------------\\n\"\n",
    "            f\"Total Months: {month_count}\\n\" \n",
    "            f\"Total Revenue: ${tot_revenue}\\n\"\n",
    "            f\"Average Revenue Change: ${avg_change}\\n\"\n",
    "            f\"Greatest Increase in Revenue: {increase_date} (${increase_revdiff})\\n\"\n",
    "            f\"Greatest Decrease in Revenue: {decrease_date} (${decrease_revdiff})\\n\"\n",
    "        )\n",
    "\n",
    "        # Export a text file with the results.\n",
    "        text_path = os.path.join(output_path, filename + \".txt\")\n",
    "        with open(text_path, \"w\") as text_file:\n",
    "            text_file.write(\n",
    "                f\"Financial Analysis: {filename}\\n\"\n",
    "                f\"----------------------------\\n\"\n",
    "                f\"Total Months: {month_count}\\n\" \n",
    "                f\"Total Revenue: ${tot_revenue}\\n\"\n",
    "                f\"Average Revenue Change: ${avg_change}\\n\"\n",
    "                f\"Greatest Increase in Revenue: {increase_date} (${increase_revdiff})\\n\"\n",
    "                f\"Greatest Decrease in Revenue: {decrease_date} (${decrease_revdiff})\\n\"\n",
    "            )"
   ]
  },
  {
   "cell_type": "code",
   "execution_count": null,
   "metadata": {},
   "outputs": [],
   "source": []
  }
 ],
 "metadata": {
  "kernelspec": {
   "display_name": "Python 3",
   "language": "python",
   "name": "python3"
  },
  "language_info": {
   "codemirror_mode": {
    "name": "ipython",
    "version": 3
   },
   "file_extension": ".py",
   "mimetype": "text/x-python",
   "name": "python",
   "nbconvert_exporter": "python",
   "pygments_lexer": "ipython3",
   "version": "3.7.1"
  }
 },
 "nbformat": 4,
 "nbformat_minor": 2
}
